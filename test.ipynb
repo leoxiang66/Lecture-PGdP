{
 "cells": [
  {
   "cell_type": "code",
   "execution_count": 1,
   "metadata": {
    "collapsed": true
   },
   "outputs": [],
   "source": [
    "import search_machine as sm\n",
    "from pprint import pprint"
   ]
  },
  {
   "cell_type": "code",
   "execution_count": 2,
   "outputs": [],
   "source": [
    "docu = sm.Document('title1', 'this is a content',\n",
    "                    'this is the abstract',\n",
    "                    'english',\n",
    "                    sm.Date(2022,10,14),\n",
    "                    author= sm.Author('tao', 'xiang', sm.Date(1997,8,8),'abc@gmail.com')\n",
    "                    )"
   ],
   "metadata": {
    "collapsed": false
   }
  },
  {
   "cell_type": "code",
   "execution_count": 3,
   "outputs": [],
   "source": [
    "doc_collection = sm.DocumentCollection()\n"
   ],
   "metadata": {
    "collapsed": false
   }
  },
  {
   "cell_type": "code",
   "execution_count": 4,
   "outputs": [],
   "source": [
    "doc_collection.appendDocument(docu)\n",
    "doc_collection.appendDocument(docu)"
   ],
   "metadata": {
    "collapsed": false
   }
  },
  {
   "cell_type": "code",
   "execution_count": 5,
   "outputs": [
    {
     "data": {
      "text/plain": "2"
     },
     "execution_count": 5,
     "metadata": {},
     "output_type": "execute_result"
    }
   ],
   "source": [
    "len(doc_collection)"
   ],
   "metadata": {
    "collapsed": false
   }
  },
  {
   "cell_type": "code",
   "execution_count": 6,
   "outputs": [],
   "source": [
    "doc_collection.prependDocument(docu)\n",
    "doc_collection.prependDocument(docu)\n",
    "doc_collection.prependDocument(docu)\n",
    "doc_collection.prependDocument(docu)"
   ],
   "metadata": {
    "collapsed": false
   }
  },
  {
   "cell_type": "code",
   "execution_count": 7,
   "outputs": [
    {
     "data": {
      "text/plain": "6"
     },
     "execution_count": 7,
     "metadata": {},
     "output_type": "execute_result"
    }
   ],
   "source": [
    "len(doc_collection)"
   ],
   "metadata": {
    "collapsed": false
   }
  },
  {
   "cell_type": "code",
   "execution_count": 8,
   "outputs": [
    {
     "name": "stdout",
     "output_type": "stream",
     "text": [
      "title1\n",
      "- content: this is a content\n",
      "- abstract: this is the abstract\n",
      "- langauge: english\n",
      "- publication date: 2022-10-14\n",
      "- author: tao xiang\n",
      "title1\n",
      "- content: this is a content\n",
      "- abstract: this is the abstract\n",
      "- langauge: english\n",
      "- publication date: 2022-10-14\n",
      "- author: tao xiang\n",
      "title1\n",
      "- content: this is a content\n",
      "- abstract: this is the abstract\n",
      "- langauge: english\n",
      "- publication date: 2022-10-14\n",
      "- author: tao xiang\n",
      "title1\n",
      "- content: this is a content\n",
      "- abstract: this is the abstract\n",
      "- langauge: english\n",
      "- publication date: 2022-10-14\n",
      "- author: tao xiang\n",
      "title1\n",
      "- content: this is a content\n",
      "- abstract: this is the abstract\n",
      "- langauge: english\n",
      "- publication date: 2022-10-14\n",
      "- author: tao xiang\n",
      "title1\n",
      "- content: this is a content\n",
      "- abstract: this is the abstract\n",
      "- langauge: english\n",
      "- publication date: 2022-10-14\n",
      "- author: tao xiang\n"
     ]
    }
   ],
   "source": [
    "for i in doc_collection:\n",
    "    print(i)"
   ],
   "metadata": {
    "collapsed": false
   }
  },
  {
   "cell_type": "code",
   "execution_count": 9,
   "outputs": [
    {
     "name": "stdout",
     "output_type": "stream",
     "text": [
      "title1\n",
      "- content: this is a content\n",
      "- abstract: this is the abstract\n",
      "- langauge: english\n",
      "- publication date: 2022-10-14\n",
      "- author: tao xiang\n",
      "title1\n",
      "- content: this is a content\n",
      "- abstract: this is the abstract\n",
      "- langauge: english\n",
      "- publication date: 2022-10-14\n",
      "- author: tao xiang\n",
      "title1\n",
      "- content: this is a content\n",
      "- abstract: this is the abstract\n",
      "- langauge: english\n",
      "- publication date: 2022-10-14\n",
      "- author: tao xiang\n",
      "title1\n",
      "- content: this is a content\n",
      "- abstract: this is the abstract\n",
      "- langauge: english\n",
      "- publication date: 2022-10-14\n",
      "- author: tao xiang\n",
      "title1\n",
      "- content: this is a content\n",
      "- abstract: this is the abstract\n",
      "- langauge: english\n",
      "- publication date: 2022-10-14\n",
      "- author: tao xiang\n",
      "5\n"
     ]
    }
   ],
   "source": [
    "doc_collection.removeFirstDocument()\n",
    "for i in doc_collection:\n",
    "    print(i)\n",
    "\n",
    "print(len(doc_collection))"
   ],
   "metadata": {
    "collapsed": false
   }
  },
  {
   "cell_type": "code",
   "execution_count": 10,
   "outputs": [
    {
     "data": {
      "text/plain": "4"
     },
     "execution_count": 10,
     "metadata": {},
     "output_type": "execute_result"
    }
   ],
   "source": [
    "doc_collection.removeLastDocument()\n",
    "len(doc_collection)"
   ],
   "metadata": {
    "collapsed": false
   }
  },
  {
   "cell_type": "code",
   "execution_count": 11,
   "outputs": [
    {
     "data": {
      "text/plain": "4"
     },
     "execution_count": 11,
     "metadata": {},
     "output_type": "execute_result"
    }
   ],
   "source": [
    "doc_collection.remove(500)\n",
    "len(doc_collection)"
   ],
   "metadata": {
    "collapsed": false
   }
  },
  {
   "cell_type": "code",
   "execution_count": 12,
   "outputs": [
    {
     "data": {
      "text/plain": "3"
     },
     "execution_count": 12,
     "metadata": {},
     "output_type": "execute_result"
    }
   ],
   "source": [
    "doc_collection.remove(1)\n",
    "len(doc_collection)"
   ],
   "metadata": {
    "collapsed": false
   }
  },
  {
   "cell_type": "code",
   "execution_count": 13,
   "outputs": [
    {
     "data": {
      "text/plain": "True"
     },
     "execution_count": 13,
     "metadata": {},
     "output_type": "execute_result"
    }
   ],
   "source": [
    "docu in doc_collection"
   ],
   "metadata": {
    "collapsed": false
   }
  },
  {
   "cell_type": "code",
   "execution_count": 14,
   "outputs": [
    {
     "data": {
      "text/plain": "0"
     },
     "execution_count": 14,
     "metadata": {},
     "output_type": "execute_result"
    }
   ],
   "source": [
    "doc_collection.indexOf(docu)"
   ],
   "metadata": {
    "collapsed": false
   }
  }
 ],
 "metadata": {
  "kernelspec": {
   "display_name": "Python 3",
   "language": "python",
   "name": "python3"
  },
  "language_info": {
   "codemirror_mode": {
    "name": "ipython",
    "version": 2
   },
   "file_extension": ".py",
   "mimetype": "text/x-python",
   "name": "python",
   "nbconvert_exporter": "python",
   "pygments_lexer": "ipython2",
   "version": "2.7.6"
  }
 },
 "nbformat": 4,
 "nbformat_minor": 0
}
