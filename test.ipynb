{
 "cells": [
  {
   "cell_type": "code",
   "execution_count": 1,
   "metadata": {
    "collapsed": true
   },
   "outputs": [],
   "source": [
    "import search_machine as sm\n",
    "from pprint import pprint"
   ]
  },
  {
   "cell_type": "code",
   "execution_count": 2,
   "outputs": [],
   "source": [
    "docu = sm.Document('title1', 'this is a content',\n",
    "                    'this is the abstract',\n",
    "                    'english',\n",
    "                    sm.Date(2022,10,14),\n",
    "                    author= sm.Author('tao', 'xiang', sm.Date(1997,8,8),'abc@gmail.com')\n",
    "                    )"
   ],
   "metadata": {
    "collapsed": false
   }
  },
  {
   "cell_type": "code",
   "execution_count": 3,
   "outputs": [],
   "source": [
    "doc_collection = sm.DocumentCollection()\n"
   ],
   "metadata": {
    "collapsed": false
   }
  },
  {
   "cell_type": "code",
   "execution_count": 4,
   "outputs": [],
   "source": [
    "doc_collection.appendDocument(docu)\n",
    "doc_collection.appendDocument(docu)"
   ],
   "metadata": {
    "collapsed": false
   }
  },
  {
   "cell_type": "code",
   "execution_count": 5,
   "outputs": [
    {
     "data": {
      "text/plain": "2"
     },
     "execution_count": 5,
     "metadata": {},
     "output_type": "execute_result"
    }
   ],
   "source": [
    "len(doc_collection)"
   ],
   "metadata": {
    "collapsed": false
   }
  },
  {
   "cell_type": "code",
   "execution_count": 6,
   "outputs": [],
   "source": [
    "doc_collection.prependDocument(docu)\n",
    "doc_collection.prependDocument(docu)\n",
    "doc_collection.prependDocument(docu)\n",
    "doc_collection.prependDocument(docu)"
   ],
   "metadata": {
    "collapsed": false
   }
  },
  {
   "cell_type": "code",
   "execution_count": 7,
   "outputs": [
    {
     "data": {
      "text/plain": "6"
     },
     "execution_count": 7,
     "metadata": {},
     "output_type": "execute_result"
    }
   ],
   "source": [
    "len(doc_collection)"
   ],
   "metadata": {
    "collapsed": false
   }
  },
  {
   "cell_type": "code",
   "execution_count": 8,
   "outputs": [
    {
     "name": "stdout",
     "output_type": "stream",
     "text": [
      "title1\n",
      "- content: this is a content\n",
      "- abstract: this is the abstract\n",
      "- langauge: english\n",
      "- publication date: 2022-10-14\n",
      "- author: tao xiang\n",
      "title1\n",
      "- content: this is a content\n",
      "- abstract: this is the abstract\n",
      "- langauge: english\n",
      "- publication date: 2022-10-14\n",
      "- author: tao xiang\n",
      "title1\n",
      "- content: this is a content\n",
      "- abstract: this is the abstract\n",
      "- langauge: english\n",
      "- publication date: 2022-10-14\n",
      "- author: tao xiang\n",
      "title1\n",
      "- content: this is a content\n",
      "- abstract: this is the abstract\n",
      "- langauge: english\n",
      "- publication date: 2022-10-14\n",
      "- author: tao xiang\n",
      "title1\n",
      "- content: this is a content\n",
      "- abstract: this is the abstract\n",
      "- langauge: english\n",
      "- publication date: 2022-10-14\n",
      "- author: tao xiang\n",
      "title1\n",
      "- content: this is a content\n",
      "- abstract: this is the abstract\n",
      "- langauge: english\n",
      "- publication date: 2022-10-14\n",
      "- author: tao xiang\n"
     ]
    }
   ],
   "source": [
    "for i in doc_collection:\n",
    "    print(i)"
   ],
   "metadata": {
    "collapsed": false
   }
  },
  {
   "cell_type": "code",
   "execution_count": 9,
   "outputs": [
    {
     "name": "stdout",
     "output_type": "stream",
     "text": [
      "title1\n",
      "- content: this is a content\n",
      "- abstract: this is the abstract\n",
      "- langauge: english\n",
      "- publication date: 2022-10-14\n",
      "- author: tao xiang\n",
      "title1\n",
      "- content: this is a content\n",
      "- abstract: this is the abstract\n",
      "- langauge: english\n",
      "- publication date: 2022-10-14\n",
      "- author: tao xiang\n",
      "title1\n",
      "- content: this is a content\n",
      "- abstract: this is the abstract\n",
      "- langauge: english\n",
      "- publication date: 2022-10-14\n",
      "- author: tao xiang\n",
      "title1\n",
      "- content: this is a content\n",
      "- abstract: this is the abstract\n",
      "- langauge: english\n",
      "- publication date: 2022-10-14\n",
      "- author: tao xiang\n",
      "title1\n",
      "- content: this is a content\n",
      "- abstract: this is the abstract\n",
      "- langauge: english\n",
      "- publication date: 2022-10-14\n",
      "- author: tao xiang\n",
      "5\n"
     ]
    }
   ],
   "source": [
    "doc_collection.removeFirstDocument()\n",
    "for i in doc_collection:\n",
    "    print(i)\n",
    "\n",
    "print(len(doc_collection))"
   ],
   "metadata": {
    "collapsed": false
   }
  },
  {
   "cell_type": "code",
   "execution_count": 10,
   "outputs": [
    {
     "data": {
      "text/plain": "4"
     },
     "execution_count": 10,
     "metadata": {},
     "output_type": "execute_result"
    }
   ],
   "source": [
    "doc_collection.removeLastDocument()\n",
    "len(doc_collection)"
   ],
   "metadata": {
    "collapsed": false
   }
  },
  {
   "cell_type": "code",
   "execution_count": 11,
   "outputs": [
    {
     "data": {
      "text/plain": "4"
     },
     "execution_count": 11,
     "metadata": {},
     "output_type": "execute_result"
    }
   ],
   "source": [
    "doc_collection.remove(500)\n",
    "len(doc_collection)"
   ],
   "metadata": {
    "collapsed": false
   }
  },
  {
   "cell_type": "code",
   "execution_count": 12,
   "outputs": [
    {
     "data": {
      "text/plain": "3"
     },
     "execution_count": 12,
     "metadata": {},
     "output_type": "execute_result"
    }
   ],
   "source": [
    "doc_collection.remove(1)\n",
    "len(doc_collection)"
   ],
   "metadata": {
    "collapsed": false
   }
  },
  {
   "cell_type": "code",
   "execution_count": 13,
   "outputs": [
    {
     "data": {
      "text/plain": "True"
     },
     "execution_count": 13,
     "metadata": {},
     "output_type": "execute_result"
    }
   ],
   "source": [
    "docu in doc_collection"
   ],
   "metadata": {
    "collapsed": false
   }
  },
  {
   "cell_type": "code",
   "execution_count": 14,
   "outputs": [
    {
     "data": {
      "text/plain": "0"
     },
     "execution_count": 14,
     "metadata": {},
     "output_type": "execute_result"
    }
   ],
   "source": [
    "doc_collection.indexOf(docu)"
   ],
   "metadata": {
    "collapsed": false
   }
  },
  {
   "cell_type": "code",
   "execution_count": 15,
   "outputs": [],
   "source": [
    "wc = docu.getWordCounts()"
   ],
   "metadata": {
    "collapsed": false
   }
  },
  {
   "cell_type": "code",
   "execution_count": 16,
   "outputs": [
    {
     "data": {
      "text/plain": "139644017032144"
     },
     "execution_count": 16,
     "metadata": {},
     "output_type": "execute_result"
    }
   ],
   "source": [
    "wc[1].__hash__()"
   ],
   "metadata": {
    "collapsed": false
   }
  },
  {
   "cell_type": "code",
   "execution_count": 17,
   "outputs": [],
   "source": [
    "wc2 = wc.__copy__()"
   ],
   "metadata": {
    "collapsed": false
   }
  },
  {
   "cell_type": "code",
   "execution_count": 18,
   "outputs": [
    {
     "data": {
      "text/plain": "139643890600720"
     },
     "execution_count": 18,
     "metadata": {},
     "output_type": "execute_result"
    }
   ],
   "source": [
    "wc2[1].__hash__()"
   ],
   "metadata": {
    "collapsed": false
   }
  },
  {
   "cell_type": "code",
   "execution_count": 19,
   "outputs": [],
   "source": [
    "wc3 = wc2 + wc"
   ],
   "metadata": {
    "collapsed": false
   }
  },
  {
   "cell_type": "code",
   "execution_count": 20,
   "outputs": [
    {
     "data": {
      "text/plain": "[{Word: 'a', Count: 1}, {Word: 'cont', Count: 1}, {Word: 'is', Count: 1}, {Word: 'this', Count: 1}]"
     },
     "execution_count": 20,
     "metadata": {},
     "output_type": "execute_result"
    }
   ],
   "source": [
    "wc"
   ],
   "metadata": {
    "collapsed": false
   }
  },
  {
   "cell_type": "code",
   "execution_count": 21,
   "outputs": [
    {
     "data": {
      "text/plain": "[{Word: 'a', Count: 1}, {Word: 'cont', Count: 1}, {Word: 'is', Count: 1}, {Word: 'this', Count: 1}]"
     },
     "execution_count": 21,
     "metadata": {},
     "output_type": "execute_result"
    }
   ],
   "source": [
    "wc2"
   ],
   "metadata": {
    "collapsed": false
   }
  },
  {
   "cell_type": "code",
   "execution_count": 22,
   "outputs": [
    {
     "data": {
      "text/plain": "[{Word: 'a', Count: 2}, {Word: 'cont', Count: 2}, {Word: 'is', Count: 2}, {Word: 'this', Count: 2}]"
     },
     "execution_count": 22,
     "metadata": {},
     "output_type": "execute_result"
    }
   ],
   "source": [
    "wc3"
   ],
   "metadata": {
    "collapsed": false
   }
  },
  {
   "cell_type": "code",
   "execution_count": 23,
   "outputs": [
    {
     "data": {
      "text/plain": "[{Word: 'a', Count: 3}, {Word: 'cont', Count: 3}, {Word: 'is', Count: 3}, {Word: 'this', Count: 3}]"
     },
     "execution_count": 23,
     "metadata": {},
     "output_type": "execute_result"
    }
   ],
   "source": [
    "wc3.extend(wc)\n",
    "wc3"
   ],
   "metadata": {
    "collapsed": false
   }
  },
  {
   "cell_type": "code",
   "execution_count": 24,
   "outputs": [
    {
     "data": {
      "text/plain": "[{Word: 'a', Count: 3}, {Word: 'cont', Count: 3}, {Word: 'is', Count: 3}, {Word: 'this', Count: 3}]"
     },
     "execution_count": 24,
     "metadata": {},
     "output_type": "execute_result"
    }
   ],
   "source": [
    "doc_collection.allWords()"
   ],
   "metadata": {
    "collapsed": false
   }
  },
  {
   "cell_type": "code",
   "execution_count": 25,
   "outputs": [
    {
     "data": {
      "text/plain": "['hello']"
     },
     "execution_count": 25,
     "metadata": {},
     "output_type": "execute_result"
    }
   ],
   "source": [
    "'hello'.split(' ')"
   ],
   "metadata": {
    "collapsed": false
   }
  },
  {
   "cell_type": "code",
   "execution_count": 26,
   "outputs": [],
   "source": [
    "doc2 = sm.Document('abc is abc', 'hi hi zhong guo niu bi', ' ', 'english', sm.Date(2000,4,1),sm.Author('sdfs','dsfdsf',sm.Date(1999,10,4),'dfs@gmail.com'))"
   ],
   "metadata": {
    "collapsed": false
   }
  },
  {
   "cell_type": "code",
   "execution_count": 27,
   "outputs": [],
   "source": [
    "doc_collection.appendDocument(doc2)"
   ],
   "metadata": {
    "collapsed": false
   }
  },
  {
   "cell_type": "code",
   "execution_count": 28,
   "outputs": [
    {
     "data": {
      "text/plain": "[{Word: 'a', Count: 3}, {Word: 'bi', Count: 1}, {Word: 'cont', Count: 3}, {Word: 'guo', Count: 1}, {Word: 'hi', Count: 2}, {Word: 'is', Count: 3}, {Word: 'niu', Count: 1}, {Word: 'this', Count: 3}, {Word: 'zhong', Count: 1}]"
     },
     "execution_count": 28,
     "metadata": {},
     "output_type": "execute_result"
    }
   ],
   "source": [
    "doc_collection.addZeroWordsToDocuments()\n",
    "doc_collection.allWords()"
   ],
   "metadata": {
    "collapsed": false
   }
  },
  {
   "cell_type": "code",
   "execution_count": 29,
   "outputs": [
    {
     "data": {
      "text/plain": "[{Word: 'a', Count: 0}, {Word: 'bi', Count: 1}, {Word: 'cont', Count: 0}, {Word: 'guo', Count: 1}, {Word: 'hi', Count: 2}, {Word: 'is', Count: 0}, {Word: 'niu', Count: 1}, {Word: 'this', Count: 0}, {Word: 'zhong', Count: 1}]"
     },
     "execution_count": 29,
     "metadata": {},
     "output_type": "execute_result"
    }
   ],
   "source": [
    "doc2.getWordCounts()"
   ],
   "metadata": {
    "collapsed": false
   }
  },
  {
   "cell_type": "code",
   "execution_count": 30,
   "outputs": [
    {
     "data": {
      "text/plain": "True"
     },
     "execution_count": 30,
     "metadata": {},
     "output_type": "execute_result"
    }
   ],
   "source": [
    "doc2.getWordCounts().wordsEqual(docu.getWordCounts())"
   ],
   "metadata": {
    "collapsed": false
   }
  },
  {
   "cell_type": "code",
   "execution_count": 31,
   "outputs": [
    {
     "data": {
      "text/plain": "[{Word: 'a', Count: 1}, {Word: 'bi', Count: 0}, {Word: 'cont', Count: 1}, {Word: 'guo', Count: 0}, {Word: 'hi', Count: 0}, {Word: 'is', Count: 1}, {Word: 'niu', Count: 0}, {Word: 'this', Count: 1}, {Word: 'zhong', Count: 0}]"
     },
     "execution_count": 31,
     "metadata": {},
     "output_type": "execute_result"
    }
   ],
   "source": [
    "docu.getWordCounts()"
   ],
   "metadata": {
    "collapsed": false
   }
  },
  {
   "cell_type": "code",
   "execution_count": 32,
   "outputs": [
    {
     "data": {
      "text/plain": "True"
     },
     "execution_count": 32,
     "metadata": {},
     "output_type": "execute_result"
    }
   ],
   "source": [
    "len(doc2.getWordCounts()) == len(docu.getWordCounts())"
   ],
   "metadata": {
    "collapsed": false
   }
  },
  {
   "cell_type": "code",
   "execution_count": 33,
   "outputs": [],
   "source": [
    "doc_collection.match('this is tao')"
   ],
   "metadata": {
    "collapsed": false
   }
  },
  {
   "cell_type": "code",
   "execution_count": 34,
   "outputs": [
    {
     "name": "stdout",
     "output_type": "stream",
     "text": [
      "abc is abc\n",
      "- content: hi hi zhong guo niu bi\n",
      "- abstract:  \n",
      "- langauge: english\n",
      "- publication date: 2000-4-1\n",
      "- author: sdfs dsfdsf\n"
     ]
    }
   ],
   "source": [
    "print(doc_collection[-1])"
   ],
   "metadata": {
    "collapsed": false
   }
  },
  {
   "cell_type": "code",
   "execution_count": 35,
   "outputs": [
    {
     "data": {
      "text/plain": "[0.5773502691896258, 0.5773502691896258, 0.5773502691896258, 0.0]"
     },
     "execution_count": 35,
     "metadata": {},
     "output_type": "execute_result"
    }
   ],
   "source": [
    "doc_collection.similarities"
   ],
   "metadata": {
    "collapsed": false
   }
  },
  {
   "cell_type": "code",
   "execution_count": 36,
   "outputs": [
    {
     "name": "stdout",
     "output_type": "stream",
     "text": [
      "abc is abc\n",
      "- content: hi hi zhong guo niu bi\n",
      "- abstract:  \n",
      "- langauge: english\n",
      "- publication date: 2000-4-1\n",
      "- author: sdfs dsfdsf\n"
     ]
    }
   ],
   "source": [
    "print(doc_collection[3])"
   ],
   "metadata": {
    "collapsed": false
   }
  },
  {
   "cell_type": "code",
   "execution_count": 37,
   "outputs": [
    {
     "data": {
      "text/plain": "3"
     },
     "execution_count": 37,
     "metadata": {},
     "output_type": "execute_result"
    }
   ],
   "source": [
    "a = ' '* 3\n",
    "len(a)"
   ],
   "metadata": {
    "collapsed": false
   }
  },
  {
   "cell_type": "code",
   "execution_count": 38,
   "outputs": [
    {
     "data": {
      "text/plain": "['ai', 'ello']"
     },
     "execution_count": 38,
     "metadata": {},
     "output_type": "execute_result"
    }
   ],
   "source": [
    "a = ['ai', 'ello']\n",
    "a.sort()\n",
    "a"
   ],
   "metadata": {
    "collapsed": false
   }
  },
  {
   "cell_type": "code",
   "execution_count": 39,
   "outputs": [],
   "source": [
    "import re\n",
    "usr = 'add MyBook:This is a new book'\n",
    "tmp = re.fullmatch(pattern='add ([a-zA-Z0-9äöüÄÖÜß\\s]+):([a-zA-Z0-9äöüÄÖÜß]+)',string=usr)\n",
    "tmp"
   ],
   "metadata": {
    "collapsed": false
   }
  },
  {
   "cell_type": "code",
   "execution_count": 40,
   "outputs": [],
   "source": [
    "usr1 = '''add Der Wolf und die 7 Geisslein:es war einmal eine alte geiss die hatte sieben junge geisslein und hatte sie lieb wie eine mutter ihre kinder lieb hat'''"
   ],
   "metadata": {
    "collapsed": false
   }
  },
  {
   "cell_type": "code",
   "execution_count": 41,
   "outputs": [],
   "source": [
    "usr2 = '''add Tischlein deck dich:vor zeiten war ein schneider der drei söhne hatte und nur eine einzige ziege'''"
   ],
   "metadata": {
    "collapsed": false
   }
  },
  {
   "cell_type": "code",
   "execution_count": 42,
   "outputs": [
    {
     "data": {
      "text/plain": "<re.Match object; span=(0, 29), match='add MyBook:This is a new book'>"
     },
     "execution_count": 42,
     "metadata": {},
     "output_type": "execute_result"
    }
   ],
   "source": [
    "re.match(pattern='add [a-zA-Z0-9äöüÄÖÜß\\s]+:[a-zA-Z0-9äöüÄÖÜß\\s]+',string=usr)"
   ],
   "metadata": {
    "collapsed": false
   }
  },
  {
   "cell_type": "code",
   "execution_count": 43,
   "outputs": [],
   "source": [
    "doc_col2 = sm.DocumentCollection()"
   ],
   "metadata": {
    "collapsed": false
   }
  },
  {
   "cell_type": "code",
   "execution_count": 44,
   "outputs": [],
   "source": [
    "doc_col2.appendDocument(sm.Document(None,'''es war einmal eine alte geiss die hatte sieben junge geisslein und hatte sie lieb wie eine mutter ihre kinder lieb hat''',None,None,None,None))"
   ],
   "metadata": {
    "collapsed": false
   }
  },
  {
   "cell_type": "code",
   "execution_count": 45,
   "outputs": [],
   "source": [
    "doc_col2.appendDocument(sm.Document(None,'''vor zeiten war ein schneider der drei söhne hatte und nur eine einzige ziege''',None,None,None,None))"
   ],
   "metadata": {
    "collapsed": false
   }
  },
  {
   "cell_type": "code",
   "execution_count": 46,
   "outputs": [
    {
     "data": {
      "text/plain": "2"
     },
     "execution_count": 46,
     "metadata": {},
     "output_type": "execute_result"
    }
   ],
   "source": [
    "len(doc_col2)"
   ],
   "metadata": {
    "collapsed": false
   }
  },
  {
   "cell_type": "code",
   "execution_count": 47,
   "outputs": [
    {
     "data": {
      "text/plain": "27"
     },
     "execution_count": 47,
     "metadata": {},
     "output_type": "execute_result"
    }
   ],
   "source": [
    "len(doc_col2.allWords())"
   ],
   "metadata": {
    "collapsed": false
   }
  },
  {
   "cell_type": "code",
   "execution_count": 48,
   "outputs": [
    {
     "data": {
      "text/plain": "18"
     },
     "execution_count": 48,
     "metadata": {},
     "output_type": "execute_result"
    }
   ],
   "source": [
    "len(doc_col2[0].getWordCounts())"
   ],
   "metadata": {
    "collapsed": false
   }
  },
  {
   "cell_type": "code",
   "execution_count": 49,
   "outputs": [
    {
     "data": {
      "text/plain": "[{Word: 'alte', Count: 1}, {Word: 'd', Count: 1}, {Word: 'ein', Count: 1}, {Word: 'eine', Count: 2}, {Word: 'es', Count: 1}, {Word: 'geiss', Count: 2}, {Word: 'hat', Count: 1}, {Word: 'hatte', Count: 2}, {Word: 'ihre', Count: 1}, {Word: 'junge', Count: 1}, {Word: 'kind', Count: 1}, {Word: 'lieb', Count: 2}, {Word: 'mutt', Count: 1}, {Word: 's', Count: 1}, {Word: 'sieb', Count: 1}, {Word: 'und', Count: 1}, {Word: 'w', Count: 1}, {Word: 'war', Count: 1}]"
     },
     "execution_count": 49,
     "metadata": {},
     "output_type": "execute_result"
    }
   ],
   "source": [
    "doc_col2[0].getWordCounts()"
   ],
   "metadata": {
    "collapsed": false
   }
  },
  {
   "cell_type": "code",
   "execution_count": 50,
   "outputs": [
    {
     "data": {
      "text/plain": "[{Word: 'd', Count: 1}, {Word: 'dr', Count: 1}, {Word: 'e', Count: 1}, {Word: 'eine', Count: 1}, {Word: 'einzige', Count: 1}, {Word: 'hatte', Count: 1}, {Word: 'nur', Count: 1}, {Word: 'schneid', Count: 1}, {Word: 'söhne', Count: 1}, {Word: 'und', Count: 1}, {Word: 'v', Count: 1}, {Word: 'war', Count: 1}, {Word: 'zeit', Count: 1}, {Word: 'ziege', Count: 1}]"
     },
     "execution_count": 50,
     "metadata": {},
     "output_type": "execute_result"
    }
   ],
   "source": [
    "doc_col2[1].getWordCounts()"
   ],
   "metadata": {
    "collapsed": false
   }
  },
  {
   "cell_type": "code",
   "execution_count": 51,
   "outputs": [],
   "source": [
    "doc_col2.addZeroWordsToDocuments()"
   ],
   "metadata": {
    "collapsed": false
   }
  },
  {
   "cell_type": "code",
   "execution_count": 51,
   "outputs": [],
   "source": [],
   "metadata": {
    "collapsed": false
   }
  },
  {
   "cell_type": "code",
   "execution_count": 52,
   "outputs": [
    {
     "data": {
      "text/plain": "27"
     },
     "execution_count": 52,
     "metadata": {},
     "output_type": "execute_result"
    }
   ],
   "source": [
    "len(doc_col2[0].getWordCounts())"
   ],
   "metadata": {
    "collapsed": false
   }
  },
  {
   "cell_type": "code",
   "execution_count": 53,
   "outputs": [
    {
     "data": {
      "text/plain": "[{Word: 'alte', Count: 1}, {Word: 'd', Count: 1}, {Word: 'dr', Count: 0}, {Word: 'e', Count: 0}, {Word: 'ein', Count: 1}, {Word: 'eine', Count: 2}, {Word: 'einzige', Count: 0}, {Word: 'es', Count: 1}, {Word: 'geiss', Count: 2}, {Word: 'hat', Count: 1}, {Word: 'hatte', Count: 2}, {Word: 'ihre', Count: 1}, {Word: 'junge', Count: 1}, {Word: 'kind', Count: 1}, {Word: 'lieb', Count: 2}, {Word: 'mutt', Count: 1}, {Word: 'nur', Count: 0}, {Word: 's', Count: 1}, {Word: 'schneid', Count: 0}, {Word: 'sieb', Count: 1}, {Word: 'söhne', Count: 0}, {Word: 'und', Count: 1}, {Word: 'v', Count: 0}, {Word: 'w', Count: 1}, {Word: 'war', Count: 1}, {Word: 'zeit', Count: 0}, {Word: 'ziege', Count: 0}]"
     },
     "execution_count": 53,
     "metadata": {},
     "output_type": "execute_result"
    }
   ],
   "source": [
    "doc_col2[0].getWordCounts()"
   ],
   "metadata": {
    "collapsed": false
   }
  },
  {
   "cell_type": "code",
   "execution_count": 54,
   "outputs": [
    {
     "data": {
      "text/plain": "27"
     },
     "execution_count": 54,
     "metadata": {},
     "output_type": "execute_result"
    }
   ],
   "source": [
    "len(doc_col2[1].getWordCounts())"
   ],
   "metadata": {
    "collapsed": false
   }
  },
  {
   "cell_type": "code",
   "execution_count": 55,
   "outputs": [
    {
     "data": {
      "text/plain": "[{Word: 'alte', Count: 0}, {Word: 'd', Count: 1}, {Word: 'dr', Count: 1}, {Word: 'e', Count: 1}, {Word: 'ein', Count: 0}, {Word: 'eine', Count: 1}, {Word: 'einzige', Count: 1}, {Word: 'es', Count: 0}, {Word: 'geiss', Count: 0}, {Word: 'hat', Count: 0}, {Word: 'hatte', Count: 1}, {Word: 'ihre', Count: 0}, {Word: 'junge', Count: 0}, {Word: 'kind', Count: 0}, {Word: 'lieb', Count: 0}, {Word: 'mutt', Count: 0}, {Word: 'nur', Count: 1}, {Word: 's', Count: 0}, {Word: 'schneid', Count: 1}, {Word: 'sieb', Count: 0}, {Word: 'söhne', Count: 1}, {Word: 'und', Count: 1}, {Word: 'v', Count: 1}, {Word: 'w', Count: 0}, {Word: 'war', Count: 1}, {Word: 'zeit', Count: 1}, {Word: 'ziege', Count: 1}]"
     },
     "execution_count": 55,
     "metadata": {},
     "output_type": "execute_result"
    }
   ],
   "source": [
    "doc_col2[1].getWordCounts()"
   ],
   "metadata": {
    "collapsed": false
   }
  },
  {
   "cell_type": "code",
   "execution_count": 56,
   "outputs": [
    {
     "ename": "IndexError",
     "evalue": "Index out of range.",
     "output_type": "error",
     "traceback": [
      "\u001B[0;31m---------------------------------------------------------------------------\u001B[0m",
      "\u001B[0;31mIndexError\u001B[0m                                Traceback (most recent call last)",
      "\u001B[0;32m/tmp/ipykernel_160414/2359309130.py\u001B[0m in \u001B[0;36m<module>\u001B[0;34m\u001B[0m\n\u001B[0;32m----> 1\u001B[0;31m \u001B[0mlen\u001B[0m\u001B[0;34m(\u001B[0m\u001B[0mdoc_col2\u001B[0m\u001B[0;34m[\u001B[0m\u001B[0;36m2\u001B[0m\u001B[0;34m]\u001B[0m\u001B[0;34m.\u001B[0m\u001B[0mgetWordCounts\u001B[0m\u001B[0;34m(\u001B[0m\u001B[0;34m)\u001B[0m\u001B[0;34m)\u001B[0m\u001B[0;34m\u001B[0m\u001B[0;34m\u001B[0m\u001B[0m\n\u001B[0m",
      "\u001B[0;32m~/git/leoxiang66/Lecture-PGdP/search_machine/_documentcollection.py\u001B[0m in \u001B[0;36m__getitem__\u001B[0;34m(self, n)\u001B[0m\n\u001B[1;32m    196\u001B[0m     \u001B[0;31m# subscriptable and slice-able\u001B[0m\u001B[0;34m\u001B[0m\u001B[0;34m\u001B[0m\u001B[0;34m\u001B[0m\u001B[0m\n\u001B[1;32m    197\u001B[0m     \u001B[0;32mdef\u001B[0m \u001B[0m__getitem__\u001B[0m\u001B[0;34m(\u001B[0m\u001B[0mself\u001B[0m\u001B[0;34m,\u001B[0m \u001B[0mn\u001B[0m\u001B[0;34m)\u001B[0m\u001B[0;34m:\u001B[0m\u001B[0;34m\u001B[0m\u001B[0;34m\u001B[0m\u001B[0m\n\u001B[0;32m--> 198\u001B[0;31m         \u001B[0;32mreturn\u001B[0m \u001B[0mself\u001B[0m\u001B[0;34m.\u001B[0m\u001B[0mget\u001B[0m\u001B[0;34m(\u001B[0m\u001B[0mn\u001B[0m\u001B[0;34m)\u001B[0m\u001B[0;34m\u001B[0m\u001B[0;34m\u001B[0m\u001B[0m\n\u001B[0m\u001B[1;32m    199\u001B[0m     \u001B[0;32mdef\u001B[0m \u001B[0mgetQuerySimilarity\u001B[0m\u001B[0;34m(\u001B[0m\u001B[0mself\u001B[0m\u001B[0;34m,\u001B[0m\u001B[0midx\u001B[0m\u001B[0;34m:\u001B[0m\u001B[0mint\u001B[0m\u001B[0;34m)\u001B[0m\u001B[0;34m:\u001B[0m\u001B[0;34m\u001B[0m\u001B[0;34m\u001B[0m\u001B[0m\n\u001B[1;32m    200\u001B[0m         \u001B[0;32mreturn\u001B[0m \u001B[0mself\u001B[0m\u001B[0;34m.\u001B[0m\u001B[0msimilarities\u001B[0m\u001B[0;34m[\u001B[0m\u001B[0midx\u001B[0m\u001B[0;34m]\u001B[0m\u001B[0;34m\u001B[0m\u001B[0;34m\u001B[0m\u001B[0m\n",
      "\u001B[0;32m~/git/leoxiang66/Lecture-PGdP/search_machine/_documentcollection.py\u001B[0m in \u001B[0;36mget\u001B[0;34m(self, idx)\u001B[0m\n\u001B[1;32m    131\u001B[0m     \u001B[0;32mdef\u001B[0m \u001B[0mget\u001B[0m\u001B[0;34m(\u001B[0m\u001B[0mself\u001B[0m\u001B[0;34m,\u001B[0m\u001B[0midx\u001B[0m\u001B[0;34m:\u001B[0m \u001B[0mint\u001B[0m\u001B[0;34m)\u001B[0m\u001B[0;34m:\u001B[0m\u001B[0;34m\u001B[0m\u001B[0;34m\u001B[0m\u001B[0m\n\u001B[1;32m    132\u001B[0m         \u001B[0;32mif\u001B[0m \u001B[0midx\u001B[0m \u001B[0;34m>=\u001B[0m \u001B[0;36m0\u001B[0m\u001B[0;34m:\u001B[0m\u001B[0;34m\u001B[0m\u001B[0;34m\u001B[0m\u001B[0m\n\u001B[0;32m--> 133\u001B[0;31m             \u001B[0;32mreturn\u001B[0m \u001B[0mself\u001B[0m\u001B[0;34m.\u001B[0m\u001B[0mgetDocumentCellAt\u001B[0m\u001B[0;34m(\u001B[0m\u001B[0midx\u001B[0m\u001B[0;34m)\u001B[0m\u001B[0;34m.\u001B[0m\u001B[0mgetDocument\u001B[0m\u001B[0;34m(\u001B[0m\u001B[0;34m)\u001B[0m\u001B[0;34m\u001B[0m\u001B[0;34m\u001B[0m\u001B[0m\n\u001B[0m\u001B[1;32m    134\u001B[0m         \u001B[0;32melse\u001B[0m\u001B[0;34m:\u001B[0m\u001B[0;34m\u001B[0m\u001B[0;34m\u001B[0m\u001B[0m\n\u001B[1;32m    135\u001B[0m             \u001B[0midx\u001B[0m \u001B[0;34m+=\u001B[0m \u001B[0mself\u001B[0m\u001B[0;34m.\u001B[0m\u001B[0m__len__\u001B[0m\u001B[0;34m(\u001B[0m\u001B[0;34m)\u001B[0m\u001B[0;34m\u001B[0m\u001B[0;34m\u001B[0m\u001B[0m\n",
      "\u001B[0;32m~/git/leoxiang66/Lecture-PGdP/search_machine/_documentcollection.py\u001B[0m in \u001B[0;36mgetDocumentCellAt\u001B[0;34m(self, idx)\u001B[0m\n\u001B[1;32m     92\u001B[0m     \u001B[0;32mdef\u001B[0m \u001B[0mgetDocumentCellAt\u001B[0m\u001B[0;34m(\u001B[0m\u001B[0mself\u001B[0m\u001B[0;34m,\u001B[0m\u001B[0midx\u001B[0m\u001B[0;34m:\u001B[0m\u001B[0mint\u001B[0m\u001B[0;34m)\u001B[0m \u001B[0;34m->\u001B[0m \u001B[0mDocumentCollectionCell\u001B[0m\u001B[0;34m:\u001B[0m\u001B[0;34m\u001B[0m\u001B[0;34m\u001B[0m\u001B[0m\n\u001B[1;32m     93\u001B[0m         \u001B[0;32mif\u001B[0m \u001B[0midx\u001B[0m \u001B[0;34m<\u001B[0m \u001B[0;36m0\u001B[0m \u001B[0;32mor\u001B[0m \u001B[0midx\u001B[0m \u001B[0;34m>=\u001B[0m \u001B[0mself\u001B[0m\u001B[0;34m.\u001B[0m\u001B[0m__num__\u001B[0m\u001B[0;34m:\u001B[0m\u001B[0;34m\u001B[0m\u001B[0;34m\u001B[0m\u001B[0m\n\u001B[0;32m---> 94\u001B[0;31m             \u001B[0;32mraise\u001B[0m \u001B[0mIndexError\u001B[0m\u001B[0;34m(\u001B[0m\u001B[0;34m'Index out of range.'\u001B[0m\u001B[0;34m)\u001B[0m\u001B[0;34m\u001B[0m\u001B[0;34m\u001B[0m\u001B[0m\n\u001B[0m\u001B[1;32m     95\u001B[0m         \u001B[0;32melse\u001B[0m\u001B[0;34m:\u001B[0m\u001B[0;34m\u001B[0m\u001B[0;34m\u001B[0m\u001B[0m\n\u001B[1;32m     96\u001B[0m             \u001B[0mtmp\u001B[0m \u001B[0;34m=\u001B[0m \u001B[0mself\u001B[0m\u001B[0;34m.\u001B[0m\u001B[0m__start__\u001B[0m\u001B[0;34m\u001B[0m\u001B[0;34m\u001B[0m\u001B[0m\n",
      "\u001B[0;31mIndexError\u001B[0m: Index out of range."
     ]
    }
   ],
   "source": [
    "# len(doc_col2[2].getWordCounts())"
   ],
   "metadata": {
    "collapsed": false
   }
  },
  {
   "cell_type": "code",
   "execution_count": 57,
   "outputs": [],
   "source": [
    "doc_col2.match('ziege')"
   ],
   "metadata": {
    "collapsed": false
   }
  },
  {
   "cell_type": "code",
   "execution_count": 58,
   "outputs": [
    {
     "name": "stdout",
     "output_type": "stream",
     "text": [
      "None: 0.0\n",
      "None: 0.2672612419124244\n"
     ]
    }
   ],
   "source": [
    "for idx,i in enumerate(doc_col2):\n",
    "    print(f'''{i.getDocument().title}: {doc_col2.getQuerySimilarity(idx)}''')"
   ],
   "metadata": {
    "collapsed": false
   }
  },
  {
   "cell_type": "code",
   "execution_count": 59,
   "outputs": [],
   "source": [
    "doc_col2.appendDocument(sm.Document(None,'''hans hatte sieben jahre bei seinem herrn gedient da sprach er zu ihm herr meine zeit ist herum nun wollte ich gerne wieder heim zu meiner mutter gebt mir meinen lohn''',None,None,None,None))"
   ],
   "metadata": {
    "collapsed": false
   }
  },
  {
   "cell_type": "code",
   "execution_count": 60,
   "outputs": [
    {
     "name": "stdout",
     "output_type": "stream",
     "text": [
      "None: 0\n",
      "None: 0\n",
      "None: 1\n"
     ]
    }
   ],
   "source": [
    "for i in doc_col2:\n",
    "    print(f'''{i.getDocument().title}: {i.getDocument().count('hans')}''')"
   ],
   "metadata": {
    "collapsed": false
   }
  },
  {
   "cell_type": "code",
   "execution_count": 61,
   "outputs": [],
   "source": [
    "doc_col2.match('hans')"
   ],
   "metadata": {
    "collapsed": false
   }
  },
  {
   "cell_type": "code",
   "execution_count": 62,
   "outputs": [
    {
     "name": "stdout",
     "output_type": "stream",
     "text": [
      "None: 0.0\n",
      "None: 0.0\n",
      "None: 0.1643989873053573\n"
     ]
    }
   ],
   "source": [
    "for idx,i in enumerate(doc_col2):\n",
    "    print(f'''{i.getDocument().title}: {doc_col2.getQuerySimilarity(idx)}''')"
   ],
   "metadata": {
    "collapsed": false
   }
  },
  {
   "cell_type": "code",
   "execution_count": 63,
   "outputs": [],
   "source": [
    "doc_col2.match('hatte')"
   ],
   "metadata": {
    "collapsed": false
   }
  },
  {
   "cell_type": "code",
   "execution_count": 64,
   "outputs": [
    {
     "name": "stdout",
     "output_type": "stream",
     "text": [
      "None: 0.3651483716701107\n",
      "None: 0.2672612419124244\n",
      "None: 0.1643989873053573\n"
     ]
    }
   ],
   "source": [
    "for idx,i in enumerate(doc_col2):\n",
    "    print(f'''{i.getDocument().title}: {doc_col2.getQuerySimilarity(idx)}''')"
   ],
   "metadata": {
    "collapsed": false
   }
  },
  {
   "cell_type": "code",
   "execution_count": 67,
   "outputs": [
    {
     "name": "stdout",
     "output_type": "stream",
     "text": [
      "add Der Wolf und die 7 Geisslein:es war einmal eine alte geiss die hatte sieben junge geisslein und hatte sie lieb wie eine mutter ihre kinder lieb hat\n",
      "add Tischlein deck dich:vor zeiten war ein schneider der drei söhne hatte und nur eine einzige ziege\n",
      "query ziege\n",
      "Der Wolf und die 7 Geisslein: 0.0\n",
      "Tischlein deck dich: 0.2672612419124244\n",
      "\n",
      "\n",
      "You entered invalid commands.\n",
      "\n",
      "\n",
      "You entered invalid commands.\n"
     ]
    }
   ],
   "source": [
    "'''\n",
    "add Der Wolf und die 7 Geisslein:es war einmal eine alte geiss die hatte sieben junge geisslein und hatte sie lieb wie eine mutter ihre kinder lieb hat\n",
    "\n",
    "add Tischlein deck dich:vor zeiten war ein schneider der drei söhne hatte und nur eine einzige ziege\n",
    "\n",
    "query ziege\n",
    "\n",
    "add Hans im Glueck:hans hatte sieben jahre bei seinem herrn gedient da sprach er zu ihm herr meine zeit ist herum nun wollte ich gerne wieder heim zu meiner mutter gebt mir meinen lohn\n",
    "\n",
    "count hans\n",
    "\n",
    "query hans\n",
    "\n",
    "query hatte\n",
    "'''\n",
    "\n",
    "\n",
    "# sm.cli()"
   ],
   "metadata": {
    "collapsed": false
   }
  }
 ],
 "metadata": {
  "kernelspec": {
   "display_name": "Python 3",
   "language": "python",
   "name": "python3"
  },
  "language_info": {
   "codemirror_mode": {
    "name": "ipython",
    "version": 2
   },
   "file_extension": ".py",
   "mimetype": "text/x-python",
   "name": "python",
   "nbconvert_exporter": "python",
   "pygments_lexer": "ipython2",
   "version": "2.7.6"
  }
 },
 "nbformat": 4,
 "nbformat_minor": 0
}
